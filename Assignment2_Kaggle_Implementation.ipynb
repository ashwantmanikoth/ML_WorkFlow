{
  "nbformat": 4,
  "nbformat_minor": 0,
  "metadata": {
    "colab": {
      "provenance": [],
      "authorship_tag": "ABX9TyOtb/3UXoAWqnFOeZWTNHWu",
      "include_colab_link": true
    },
    "kernelspec": {
      "name": "python3",
      "display_name": "Python 3"
    },
    "language_info": {
      "name": "python"
    }
  },
  "cells": [
    {
      "cell_type": "markdown",
      "metadata": {
        "id": "view-in-github",
        "colab_type": "text"
      },
      "source": [
        "<a href=\"https://colab.research.google.com/github/ashwantmanikoth/ML_WorkFlow/blob/main/Assignment2_Kaggle_Implementation.ipynb\" target=\"_parent\"><img src=\"https://colab.research.google.com/assets/colab-badge.svg\" alt=\"Open In Colab\"/></a>"
      ]
    },
    {
      "cell_type": "code",
      "execution_count": null,
      "metadata": {
        "colab": {
          "base_uri": "https://localhost:8080/"
        },
        "id": "-pM1nOqvhSaa",
        "outputId": "ded08ef7-d3c9-4f53-949c-cd982a43b989"
      },
      "outputs": [
        {
          "output_type": "stream",
          "name": "stdout",
          "text": [
            "Mounted at /content/drive\n"
          ]
        }
      ],
      "source": [
        "from google.colab import drive\n",
        "drive.mount('/content/drive')\n",
        "!pip install scikit-learn\n"
      ]
    },
    {
      "cell_type": "code",
      "source": [
        "import zipfile\n",
        "import os\n",
        "\n",
        "# Path to the zip file\n",
        "zip_path = \"/content/drive/MyDrive/Teaching/TME_6015/Assignment_2/catvsrabbit.zip\"\n",
        "\n",
        "# Path where you want to extract the zip file\n",
        "extract_path = \"/content/drive/MyDrive/Teaching/TME_6015/Assignment_2/catvsrabbit\"\n",
        "\n",
        "# Create the extract folder if it doesn't exist\n",
        "os.makedirs(extract_path, exist_ok=True)\n",
        "\n",
        "# Create a ZipFile Object\n",
        "with zipfile.ZipFile(zip_path, 'r') as zip_ref:\n",
        "    # Extract all the contents of zip file in the extract folder\n",
        "    zip_ref.extractall(extract_path)"
      ],
      "metadata": {
        "id": "yQTyEFW2hgog"
      },
      "execution_count": null,
      "outputs": []
    },
    {
      "cell_type": "code",
      "source": [
        "import tensorflow as tf\n",
        "import tensorflow_hub as hub\n",
        "\n",
        "m = tf.keras.Sequential([\n",
        "    hub.KerasLayer(\"https://www.kaggle.com/models/google/resnet-v2/frameworks/TensorFlow2/variations/101-classification/versions/2\")\n",
        "])\n",
        "m.build([None, 224, 224, 3])  # Batch input shape.\n"
      ],
      "metadata": {
        "id": "RfGiOU_Mhsoe"
      },
      "execution_count": 72,
      "outputs": []
    },
    {
      "cell_type": "code",
      "source": [
        "import os\n",
        "from tensorflow.keras.preprocessing.image import load_img, img_to_array\n",
        "\n",
        "import zipfile\n",
        "import numpy as np\n",
        "import matplotlib.pyplot as plt\n",
        "from sklearn.model_selection import train_test_split\n",
        "from sklearn.metrics import confusion_matrix, ConfusionMatrixDisplay\n",
        "from sklearn.preprocessing import LabelEncoder\n",
        "from sklearn.svm import SVC\n",
        "\n",
        "from tensorflow.keras.preprocessing.image import ImageDataGenerator\n",
        "\n",
        "\n",
        "\n",
        "# # Extract the dataset (assuming it contains image files and labels)\n",
        "# with zipfile.ZipFile(zip_path, 'r') as zip_ref:\n",
        "#     zip_ref.extractall(extract_path)\n",
        "\n",
        "# Load and preprocess your dataset (this depends on your specific dataset)\n",
        "\n",
        "# Example: Assume you have a dataset with images and labels in separate folders\n",
        "# Define image directory\n",
        "cat_images=[]\n",
        "cat_label=[]\n",
        "rabbit_label=[]\n",
        "rabbit_images=[]\n",
        "target_size = (224, 224)\n",
        "\n",
        "cat_image_dir = os.path.join(extract_path, \"test-images/cat\")\n",
        "\n",
        "for filename in os.listdir(cat_image_dir):\n",
        "  cat_image_path = os.path.join(cat_image_dir, filename)\n",
        "  image = load_img(cat_image_path, target_size=target_size)\n",
        "\n",
        "  image_array = img_to_array(image)\n",
        "\n",
        "  image_array /= 255.0\n",
        "\n",
        "  cat_images.append(image_array)\n",
        "  cat_label.append(0)\n",
        "\n",
        "image_dir = os.path.join(extract_path, \"test-images/rabbit\")\n",
        "rabbit_labels=[]\n",
        "for filename in os.listdir(image_dir):\n",
        "  rabbit_image_path = os.path.join(image_dir, filename)\n",
        "\n",
        "  image = load_img(rabbit_image_path, target_size=target_size)\n",
        "\n",
        "  image_array = img_to_array(image)\n",
        "\n",
        "  image_array /= 255.0\n",
        "  rabbit_images.append(image_array)\n",
        "  rabbit_labels.append(1)\n",
        "\n",
        "# print(cat_images)\n",
        "# print(rabbit_images)\n",
        "\n",
        "test_cat_image = np.array(cat_images)\n",
        "test_rabbit_image = np.array(rabbit_images)\n",
        "\n",
        "test_cat_label =np.array(cat_label)\n",
        "test_rabbit_label =np.array(rabbit_labels)\n",
        "\n",
        "\n",
        "X_test=[]\n",
        "X_test.append(test_cat_image)\n",
        "X_test.append(test_cat_image)\n",
        "\n",
        "X_test = np.concatenate([test_cat_image, test_rabbit_image], axis=0)\n",
        "y_test = np.concatenate([test_cat_label, test_rabbit_label], axis=0)\n",
        "\n",
        "\n",
        "# Make predictions on the test data\n",
        "y_pred = m.predict(X_test)\n",
        "y_pred= np.argmax(y_pred,axis=1)%2\n",
        "\n",
        "# Create a confusion matrix\n",
        "cm = confusion_matrix(y_test, y_pred)\n",
        "\n",
        "\n",
        "print(\"Confusion Matrix:\")\n",
        "print(cm)\n",
        "class_names =['cat','rabbit']\n",
        "plt.imshow(cm, interpolation='nearest', cmap=plt.cm.Blues)\n",
        "plt.title('Confusion Matrix')\n",
        "plt.colorbar()\n",
        "tick_marks = np.arange(len(class_names))\n",
        "plt.xticks(tick_marks, class_names, rotation=45)\n",
        "plt.yticks(tick_marks, class_names)\n",
        "plt.ylabel('True labels')\n",
        "plt.xlabel('Predicted labels')\n",
        "plt.tight_layout()\n",
        "# Show the confusion matrix plot\n",
        "plt.show()"
      ],
      "metadata": {
        "colab": {
          "base_uri": "https://localhost:8080/",
          "height": 594
        },
        "id": "Y5WD6r3js8W1",
        "outputId": "9eba0541-0ac2-45b1-9a99-5ea56dbeffd3"
      },
      "execution_count": 82,
      "outputs": [
        {
          "output_type": "stream",
          "name": "stdout",
          "text": [
            "1/1 [==============================] - 6s 6s/step\n",
            "Number of rabbit images: [0 0 0 0 0 0 0 0 0 0 1 1 1 1 1]\n",
            "Number of cat images: [0 0 0 0 0 0 0 0 0 0 1 1 1 1 1]\n",
            "Confusion Matrix:\n",
            "[[10  0]\n",
            " [ 0  5]]\n"
          ]
        },
        {
          "output_type": "display_data",
          "data": {
            "text/plain": [
              "<Figure size 640x480 with 2 Axes>"
            ],
            "image/png": "[encoded data removed]"
          },
          "metadata": {}
        }
      ]
    },
    {
      "cell_type": "code",
      "source": [],
      "metadata": {
        "id": "NlWOl8-DCluM"
      },
      "execution_count": null,
      "outputs": []
    },
    {
      "cell_type": "code",
      "source": [],
      "metadata": {
        "id": "w4pE0AXZtblt"
      },
      "execution_count": null,
      "outputs": []
    }
  ]
}